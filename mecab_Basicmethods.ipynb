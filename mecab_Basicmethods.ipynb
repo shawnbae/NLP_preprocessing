{
 "cells": [
  {
   "cell_type": "code",
   "execution_count": 28,
   "metadata": {},
   "outputs": [],
   "source": [
    "# 크게 mecab, Komoran, Hannanum, Okt, Kkma 사용 가능\n",
    "import MeCab\n",
    "from konlpy.tag import Mecab\n",
    "from konlpy.tag import Komoran\n",
    "from konlpy.tag import Hannanum\n",
    "from konlpy.tag import Okt\n",
    "from konlpy.tag import Kkma\n",
    "from collections import Counter"
   ]
  },
  {
   "cell_type": "markdown",
   "metadata": {},
   "source": [
    "# 설치 확인"
   ]
  },
  {
   "cell_type": "code",
   "execution_count": 2,
   "metadata": {},
   "outputs": [
    {
     "name": "stdout",
     "output_type": "stream",
     "text": [
      "Mecab\tSL,*,*,*,*,*,*,*\n",
      "설치\tNNG,행위,F,설치,*,*,*,*\n",
      "를\tJKO,*,T,를,*,*,*,*\n",
      "확인\tNNG,행위,T,확인,*,*,*,*\n",
      "합니다\tXSV+EF,*,F,합니다,Inflect,XSV,EF,하/XSV/*+ᄇ니다/EF/*\n",
      ".\tSF,*,*,*,*,*,*,*\n",
      "EOS\n",
      "\n"
     ]
    }
   ],
   "source": [
    "m = MeCab.Tagger()\n",
    "OUTPUT = m.parse('Mecab 설치를 확인합니다.')\n",
    "print(OUTPUT)"
   ]
  },
  {
   "cell_type": "code",
   "execution_count": 12,
   "metadata": {
    "code_folding": []
   },
   "outputs": [
    {
     "data": {
      "text/plain": [
       "['설치', '확인']"
      ]
     },
     "execution_count": 12,
     "metadata": {},
     "output_type": "execute_result"
    }
   ],
   "source": [
    "# dictionary 위치 선정해줘야함\n",
    "mecab= Mecab(dicpath= 'C:\\\\mecab\\\\mecab-ko-dic')\n",
    "mecab.nouns('설치가 되었는지 확인')"
   ]
  },
  {
   "cell_type": "markdown",
   "metadata": {},
   "source": [
    "# Komoran 사용하기"
   ]
  },
  {
   "cell_type": "code",
   "execution_count": 14,
   "metadata": {},
   "outputs": [
    {
     "name": "stdout",
     "output_type": "stream",
     "text": [
      "['텍스트', '예시', '이', 'ㅂ니다', '.', '어떤', '단어', '들', '이', '나오', 'ㄹ', '지', '궁금', '하', '네요', '.']\n"
     ]
    }
   ],
   "source": [
    "komoran= Komoran()\n",
    "# morphs는 단어들만 뽑아주는 토큰화이다.\n",
    "# nouns / pos등의 메서드를 사용할 수 있다.\n",
    "text= '텍스트 예시입니다. 어떤 단어들이 나올 지 궁금하네요.'\n",
    "komoran_tokens = komoran.morphs (text) \n",
    "print(komoran_tokens)"
   ]
  },
  {
   "cell_type": "code",
   "execution_count": 16,
   "metadata": {},
   "outputs": [
    {
     "data": {
      "text/plain": [
       "['설치', '확인']"
      ]
     },
     "execution_count": 16,
     "metadata": {},
     "output_type": "execute_result"
    }
   ],
   "source": [
    "# 명사 추출\n",
    "komoran.nouns('설치가 되었는지 확인')"
   ]
  },
  {
   "cell_type": "markdown",
   "metadata": {},
   "source": [
    "# Hannanum 사용하기"
   ]
  },
  {
   "cell_type": "code",
   "execution_count": 20,
   "metadata": {},
   "outputs": [
    {
     "data": {
      "text/plain": [
       "['텍스트',\n",
       " '예시',\n",
       " '두번',\n",
       " '째',\n",
       " '이',\n",
       " 'ㅂ니다',\n",
       " '.',\n",
       " '또',\n",
       " '어떤',\n",
       " '단어들',\n",
       " '이',\n",
       " '나',\n",
       " '아',\n",
       " '오',\n",
       " 'ㄹ',\n",
       " '지',\n",
       " '궁금',\n",
       " '하',\n",
       " '네',\n",
       " '요',\n",
       " '.']"
      ]
     },
     "execution_count": 20,
     "metadata": {},
     "output_type": "execute_result"
    }
   ],
   "source": [
    "hannanum= Hannanum()\n",
    "hannanum.morphs('텍스트 예시 두번째입니다. 또 어떤 단어들이 나올 지 궁금하네요.')"
   ]
  },
  {
   "cell_type": "markdown",
   "metadata": {},
   "source": [
    "# Kkma 사용하기"
   ]
  },
  {
   "cell_type": "code",
   "execution_count": 22,
   "metadata": {},
   "outputs": [],
   "source": [
    "kkma= Kkma()\n",
    "kkma_token= kkma.morphs('텍스트 예시 세번째입니다. 비슷하게 나왔으면 좋겠네요.')"
   ]
  },
  {
   "cell_type": "code",
   "execution_count": 26,
   "metadata": {},
   "outputs": [
    {
     "name": "stdout",
     "output_type": "stream",
     "text": [
      "[('텍스트', 'NNG')]\n",
      "[('예시', 'NNG')]\n",
      "[('세', 'NNG')]\n",
      "[('번째', 'NNB')]\n",
      "[('입', 'NNG')]\n",
      "[('니', 'VV')]\n",
      "[('다', 'NNG')]\n",
      "[('.', 'SF')]\n",
      "[('비슷', 'XR'), ('하', 'XSA')]\n",
      "[('게', 'NNG')]\n",
      "[('나오', 'VV')]\n",
      "[('아', 'VV'), ('었', 'EPT')]\n",
      "[('으', 'UN'), ('이', 'VCP'), ('면', 'ECE')]\n",
      "[('좋', 'VA')]\n",
      "[('이', 'VCP'), ('겠', 'EPT')]\n",
      "[('네요', 'UN')]\n",
      "[('.', 'SF')]\n"
     ]
    }
   ],
   "source": [
    "for token in kkma_token:\n",
    "    print(kkma.pos(token))"
   ]
  },
  {
   "cell_type": "markdown",
   "metadata": {},
   "source": [
    "# Okt 사용하기"
   ]
  },
  {
   "cell_type": "code",
   "execution_count": 30,
   "metadata": {},
   "outputs": [
    {
     "data": {
      "text/plain": [
       "['마지막', '텍스트', '예시', '입니다', '.', '어떤', '결과', '가', '나올까', '요', '?']"
      ]
     },
     "execution_count": 30,
     "metadata": {},
     "output_type": "execute_result"
    }
   ],
   "source": [
    "okt= Okt()\n",
    "okt.morphs('마지막 텍스트 예시입니다. 어떤 결과가 나올까요?')"
   ]
  },
  {
   "cell_type": "markdown",
   "metadata": {},
   "source": [
    "# Counter.most_common()"
   ]
  },
  {
   "cell_type": "code",
   "execution_count": 32,
   "metadata": {},
   "outputs": [
    {
     "data": {
      "text/plain": [
       "[(' ', 6),\n",
       " ('.', 2),\n",
       " ('어', 2),\n",
       " ('텍', 1),\n",
       " ('스', 1),\n",
       " ('트', 1),\n",
       " ('예', 1),\n",
       " ('시', 1),\n",
       " ('입', 1),\n",
       " ('니', 1),\n",
       " ('다', 1),\n",
       " ('떤', 1),\n",
       " ('단', 1),\n",
       " ('들', 1),\n",
       " ('이', 1),\n",
       " ('나', 1),\n",
       " ('올', 1),\n",
       " ('지', 1),\n",
       " ('궁', 1),\n",
       " ('금', 1),\n",
       " ('하', 1),\n",
       " ('네', 1),\n",
       " ('요', 1)]"
      ]
     },
     "execution_count": 32,
     "metadata": {},
     "output_type": "execute_result"
    }
   ],
   "source": [
    "Counter(text).most_common()"
   ]
  }
 ],
 "metadata": {
  "kernelspec": {
   "display_name": "Python 3",
   "language": "python",
   "name": "python3"
  },
  "language_info": {
   "codemirror_mode": {
    "name": "ipython",
    "version": 3
   },
   "file_extension": ".py",
   "mimetype": "text/x-python",
   "name": "python",
   "nbconvert_exporter": "python",
   "pygments_lexer": "ipython3",
   "version": "3.7.9"
  },
  "varInspector": {
   "cols": {
    "lenName": 16,
    "lenType": 16,
    "lenVar": 40
   },
   "kernels_config": {
    "python": {
     "delete_cmd_postfix": "",
     "delete_cmd_prefix": "del ",
     "library": "var_list.py",
     "varRefreshCmd": "print(var_dic_list())"
    },
    "r": {
     "delete_cmd_postfix": ") ",
     "delete_cmd_prefix": "rm(",
     "library": "var_list.r",
     "varRefreshCmd": "cat(var_dic_list()) "
    }
   },
   "types_to_exclude": [
    "module",
    "function",
    "builtin_function_or_method",
    "instance",
    "_Feature"
   ],
   "window_display": false
  }
 },
 "nbformat": 4,
 "nbformat_minor": 4
}
